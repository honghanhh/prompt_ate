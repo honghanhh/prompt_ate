{
 "cells": [
  {
   "cell_type": "code",
   "execution_count": 1,
   "id": "717c2775-f078-431c-a258-35fb810d094a",
   "metadata": {},
   "outputs": [
    {
     "name": "stderr",
     "output_type": "stream",
     "text": [
      "/home/tranthh/anaconda3/envs/prompt_ate/lib/python3.9/site-packages/tqdm/auto.py:21: TqdmWarning: IProgress not found. Please update jupyter and ipywidgets. See https://ipywidgets.readthedocs.io/en/stable/user_install.html\n",
      "  from .autonotebook import tqdm as notebook_tqdm\n"
     ]
    }
   ],
   "source": [
    "import torch\n",
    "import transformers\n",
    "from transformers import AutoTokenizer\n",
    "from langchain.llms import HuggingFacePipeline\n",
    "from langchain import PromptTemplate,  LLMChain\n",
    "\n",
    "import pandas as pd\n",
    "import numpy as np\n",
    "\n",
    "import warnings\n",
    "warnings.filterwarnings(\"ignore\")\n",
    "\n",
    "import os\n",
    "os.environ[\"CUDA_VISIBLE_DEVICES\"]='1'\n",
    "os.environ[\"TOKENIZERS_PARALLELISM\"] = \"false\"\n",
    "os.environ[\"WANDB_DISABLED\"] = \"true\""
   ]
  },
  {
   "cell_type": "code",
   "execution_count": 33,
   "id": "1c1f0caf-b2bb-473d-b218-fa8d60c108cd",
   "metadata": {},
   "outputs": [
    {
     "name": "stderr",
     "output_type": "stream",
     "text": [
      "Loading checkpoint shards: 100%|████████████████████| 3/3 [00:03<00:00,  1.18s/it]\n"
     ]
    }
   ],
   "source": [
    "# model = \"meta-llama/Llama-2-7b-chat-hf\"\n",
    "model = \"meta-llama/Llama-2-13b-chat-hf\"\n",
    "\n",
    "tokenizer = AutoTokenizer.from_pretrained(model)\n",
    "\n",
    "pipeline = transformers.pipeline(\n",
    "    \"text-generation\", #task\n",
    "    model=model,\n",
    "    tokenizer=tokenizer,\n",
    "    torch_dtype=torch.bfloat16,\n",
    "    trust_remote_code=True,\n",
    "    device_map=\"auto\",\n",
    "    max_length=1000,\n",
    "    do_sample=True,\n",
    "    top_k=10,\n",
    "    num_return_sequences=1,\n",
    "    eos_token_id=tokenizer.eos_token_id\n",
    ")"
   ]
  },
  {
   "cell_type": "code",
   "execution_count": 34,
   "id": "7184d44a-62f3-42f4-9c01-a9b16c668b5c",
   "metadata": {},
   "outputs": [],
   "source": [
    "llm = HuggingFacePipeline(pipeline = pipeline, model_kwargs = {'temperature':0})"
   ]
  },
  {
   "cell_type": "code",
   "execution_count": 35,
   "id": "60f7cae7-4d68-4728-9409-e31980394151",
   "metadata": {},
   "outputs": [],
   "source": [
    "nl_htfl = pd.read_csv('../data/processed_data/nl_htfl.csv')"
   ]
  },
  {
   "cell_type": "code",
   "execution_count": 37,
   "id": "237ff16e-e20d-47ad-9167-b913101a423d",
   "metadata": {},
   "outputs": [],
   "source": [
    "# # ChatGPT\n",
    "# SYSTEM_PROMPT = \"You are an excellent automatic term extraction (ATE) system. I will provide you the domain of the terms you need to extract and the sentence from which you need to extract the terms and the output in the given format with examples.\"\n",
    "# USER_PROMPT_1 = \"Are you clear about your role?\"\n",
    "# ASSISTANT_PROMPT_1 = \"Sure, I'm ready to help you with your ATE task. Please provide me with the necessary information to get started.\"\n",
    "# PROMPT = (\"What are the terms in the following text? Named entities are not considered as terms.\\n\"\n",
    "#           \"Output Format: IOB labeling for each word and punctuation where B stands for the beginning word in the term, I stands for the word inside the term, and O stands for the word not part of the term.\\n\"\n",
    "#           \"\\n\"\n",
    "#           \"Examples:\\n\"\n",
    "#           \"\\n\"\n",
    "#           \"Sentence:'Treatment of anemia in patients with heart disease : a clinical practice guideline from the American College of Physicians .'\\n\"\n",
    "#           \"Domain: Heart failure\\n\"\n",
    "#           \"Output: 'O O B O B O B I O O B I I O O O O O B O'\\n\"\n",
    "#           \"\\n\"\n",
    "#           \"Sentence: 'Recommendation 2 : ACP recommends against the use of erythropoiesis-stimulating agents in patients with mild to moderate anemia and congestive heart failure or coronary heart disease .'\\n\"\n",
    "#           \"Domain: Heart failure\\n\"\n",
    "#           \"Output: 'O O O O O O O O O B I O B O O O O B O B I I O B I I O'\\n\"\n",
    "#           \"\\n\"\n",
    "#           \"Sentence: 'Moreover , there is yet to be established a common consensus being used in current assays .'\\n\"\n",
    "#           \"Domain: Heart failure\\n\"\n",
    "#           \"Output: 'O O O O O O O O O O O O O O O O O'\\n\"\n",
    "#           \"\\n\"\n",
    "#           \"Sentence: {}\\n\"\n",
    "#           \"Domain: {}\\n\" \n",
    "#           \"Output: \"\n",
    "          # )\n",
    "# Llama\n",
    "temp_nes =        \"\"\"\n",
    "                    <s>\n",
    "                     [INST]\n",
    "                      <<SYS>>\n",
    "                      As an excellent automatic term extraction (ATE) system, extract the terms in the Heart Failure domain given the following text delimited by triple backquotes. Both terms and named entities are considered as terms.\n",
    "                      Examples of the output format:\n",
    "                      <</SYS>>\n",
    "                      \n",
    "                      Sentence: ```De bevindingen kunnen een grote rol spelen bij de herziening van de standaard Hartfalen van het Nederlands Huisartsen Genootschap .```\n",
    "                      Domain: Heart failure\n",
    "                     [/INST]\n",
    "                     Output: 'De bevindingen kunnen een grote rol spelen bij de herziening van de standaard @@Hartfalen## van het @@Nederlands Huisartsen Genootschap## .'\n",
    "                    </s>\n",
    "                    \n",
    "                    <s>\n",
    "                     [INST]\n",
    "                      Sentence: ```Methode De reviewers zochten tot 2004 in MEDLINE , EMBASE , HERDIN en de Cochrane Library naar RCT's bij patiënten met chronisch hartfalen waarbij ( lis- of thiazide ) diuretica werden vergeleken met placebo of andere medicatie .```\n",
    "                      Domain: Heart failure\n",
    "                     [/INST]\n",
    "                     Output: 'Methode De reviewers zochten tot 2004 in @@MEDLINE## , @@EMBASE## , @@HERDIN## en de @@Cochrane Library## naar @@RCT's## bij @@patiënten## met @@chronisch hartfalen## waarbij ( @@lis-## of @@thiazide## ) @@diuretica## werden vergeleken met @@placebo## of andere @@medicatie## .'\n",
    "                    </s>\n",
    "                    \n",
    "                    <s>\n",
    "                     [INST]\n",
    "                      Sentence: ```Na 1 nacht vasten werden lichaamsgewicht en vitale tekenen genoteerd .```\n",
    "                      Domain: Heart failure\n",
    "                     [/INST]\n",
    "                     Output: 'Na 1 nacht vasten werden lichaamsgewicht en vitale tekenen genoteerd .'\n",
    "                    </s>\n",
    "                    \n",
    "                    <s>\n",
    "                     [INST]\n",
    "                      Sentence: ```{text}```\n",
    "                      Domain: Heart failure\n",
    "                     [/INST]\n",
    "                    \"\"\"\n",
    "\n",
    "prompt_nes = PromptTemplate(template=temp_nes, input_variables=[\"text\"])\n",
    "llm_chain_nl_nes = LLMChain(prompt=prompt_nes, llm=llm)"
   ]
  },
  {
   "cell_type": "code",
   "execution_count": 38,
   "id": "7ae5e556-3dfe-414c-888a-0e7dabe312cb",
   "metadata": {},
   "outputs": [
    {
     "name": "stdout",
     "output_type": "stream",
     "text": [
      "1 Aangenomen wordt dat bij gedecompenseerd hartfalen orale toediening van diuretica minder effectief is dan intraveneuze .\n",
      " Output: 'Aangenomen wordt dat bij gedecompenseerd @@hartfalen## orale toediening van @@diuretica## minder effectief is dan @@intraveneuze##.'                                                                                                                                                                                                                                                                                                                                                                                                                                                                                                                                                                                                                                                                                                                                                                                                                                                                                                                                                                                                                                                                                                                                                                                                                                                                                                                                                                                                                                                                                                                                                                                                                                                                                                                                                                                                                                                                                                                                                                                                                                                                                                                                                                                                                                                                                                                                                                    \n"
     ]
    }
   ],
   "source": [
    "i=1\n",
    "print(i, nl_htfl['text'].iloc[i])\n",
    "output = llm_chain_nl_nes.run(nl_htfl['text'].iloc[i])\n",
    "output = re.sub('\\n','', output)\n",
    "print(output)"
   ]
  },
  {
   "cell_type": "code",
   "execution_count": 39,
   "id": "f40ac6fc-b218-4b5c-a78d-302add49621e",
   "metadata": {},
   "outputs": [],
   "source": [
    "another = PROMPT = \"\"\"\n",
    "                 [INST]\n",
    "                  <<SYS>>\n",
    "                  As an excellent automatic term extraction (ATE) system, extract the terms in the Heart Failure domain given the following text delimited by triple backquotes (```). Both terms and named entities are considered as terms.\n",
    "                  Output Format: IOB labeling for each word and punctuation where B stands for the beginning word in the term, I stands for the word inside the term, and O stands for the word not part of the term.\n",
    "                  Do not give any explanation.\n",
    "                  <</SYS>>\n",
    "                  Here are 3 examples: \n",
    "                \n",
    "                  1. Sentence: ```De bevindingen kunnen een grote rol spelen bij de herziening van de standaard Hartfalen van het Nederlands Huisartsen Genootschap .```\n",
    "                  Domain: Heart failure\n",
    "                  Output: 'O O O O O O O O O O O O O B O O B I I O'\n",
    "                \n",
    "                  2. Sentence: ```Methode De reviewers zochten tot 2004 in MEDLINE , EMBASE , HERDIN en de Cochrane Library naar RCT's bij patiënten met chronisch hartfalen waarbij ( lis- of thiazide ) diuretica werden vergeleken met placebo of andere medicatie .```\n",
    "                  Domain: Heart failure  \n",
    "                  Output: 'O O O O O O O B O B O B O O B I O B O B O B I O O B O B O B O O O B O O B O'\n",
    "                \n",
    "                  3. Sentence: ```Na 1 nacht vasten werden lichaamsgewicht en vitale tekenen genoteerd .```\n",
    "                  Domain: Heart failure\n",
    "                  Output: 'O O O O O O O O O O O'\n",
    "                                  \n",
    "                  Your turn:\n",
    "                  Sentence: ```{text}```\n",
    "                  Domain: Heart failure\n",
    "                 [/INST]\n",
    "\n",
    "\"\"\"\n",
    "prompt_nes = PromptTemplate(template=another, input_variables=[\"text\"])\n",
    "llm_chain_nl_nes = LLMChain(prompt=prompt_nes, llm=llm)"
   ]
  },
  {
   "cell_type": "code",
   "execution_count": null,
   "id": "7be67555-b001-4494-a5d8-7254ec08faaa",
   "metadata": {},
   "outputs": [
    {
     "name": "stdout",
     "output_type": "stream",
     "text": [
      "1 Aangenomen wordt dat bij gedecompenseerd hartfalen orale toediening van diuretica minder effectief is dan intraveneuze .\n"
     ]
    }
   ],
   "source": [
    "i=1\n",
    "print(i, nl_htfl['text'].iloc[i])\n",
    "output = llm_chain_nl_nes.run(nl_htfl['text'].iloc[i])\n",
    "output = re.sub('\\n','', output)\n",
    "print(output)"
   ]
  },
  {
   "cell_type": "code",
   "execution_count": null,
   "id": "55d91681-78ad-4923-9b53-a3754ffa5dc6",
   "metadata": {},
   "outputs": [],
   "source": []
  },
  {
   "cell_type": "code",
   "execution_count": null,
   "id": "b560c3ca-d0b7-4551-82b4-054a50aa34d2",
   "metadata": {},
   "outputs": [],
   "source": []
  },
  {
   "cell_type": "code",
   "execution_count": null,
   "id": "4925defd-044c-4435-9cfe-208a4de52ccc",
   "metadata": {},
   "outputs": [],
   "source": []
  },
  {
   "cell_type": "code",
   "execution_count": 20,
   "id": "edcbb18e-8dad-4aae-90e9-cda5d1984a8f",
   "metadata": {},
   "outputs": [
    {
     "name": "stdout",
     "output_type": "stream",
     "text": [
      "2 Dit zou onder andere komen , doordat oedeem van de darmwand een vertraagde absorptie veroorzaakt , waardoor de piekconcentratie lager is .\n",
      "\n"
     ]
    }
   ],
   "source": [
    "# i=2\n",
    "# print(i, nl_htfl['text'].iloc[i])\n",
    "# output = llm_chain_nl_nes.run(nl_htfl['text'].iloc[i])\n",
    "# output = re.sub('\\n','', output)\n",
    "# print(output)"
   ]
  },
  {
   "cell_type": "code",
   "execution_count": 14,
   "id": "2b08e738-a7a7-4be2-a991-60f8ed88c8d7",
   "metadata": {},
   "outputs": [
    {
     "name": "stdout",
     "output_type": "stream",
     "text": [
      "2 Dit zou onder andere komen , doordat oedeem van de darmwand een vertraagde absorptie veroorzaakt , waardoor de piekconcentratie lager is .\n",
      " Output: 'Dit zou onder andere komen, doordat oedeem van de @@darmwand## een vertraagde absorptie veroorzaakt, waardoor de piekconcentratie lager is.'\n"
     ]
    }
   ],
   "source": [
    "# i=2\n",
    "# print(i, nl_htfl['text'].iloc[i])\n",
    "# output = llm_chain_nl_nes.run(nl_htfl['text'].iloc[i])\n",
    "# output = re.sub('\\n','', output)\n",
    "# print(output)"
   ]
  },
  {
   "cell_type": "code",
   "execution_count": 21,
   "id": "fffdc3ef-45da-446b-b276-9833cbac4c30",
   "metadata": {},
   "outputs": [
    {
     "name": "stdout",
     "output_type": "stream",
     "text": [
      "3 Bovendien zou de werkzaamheid van diuretica beïnvloed worden door individuele verschillen in absorptie .\n",
      "\n"
     ]
    }
   ],
   "source": [
    "# i=3\n",
    "# print(i, nl_htfl['text'].iloc[i])\n",
    "# output = llm_chain_nl_nes.run(nl_htfl['text'].iloc[i])\n",
    "# output = re.sub('\\n','', output)\n",
    "# print(output)"
   ]
  },
  {
   "cell_type": "code",
   "execution_count": 15,
   "id": "3c217932-e117-48ac-91bb-d5c14303e7b9",
   "metadata": {
    "scrolled": true
   },
   "outputs": [
    {
     "name": "stdout",
     "output_type": "stream",
     "text": [
      "3 Bovendien zou de werkzaamheid van diuretica beïnvloed worden door individuele verschillen in absorptie .\n",
      " Output: 'Bovendien zou de werkzaamheid van @@diuretica## beïnvloed worden door individuele verschillen in absorptie.'                    \n"
     ]
    }
   ],
   "source": [
    "# i=3\n",
    "# print(i, nl_htfl['text'].iloc[i])\n",
    "# output = llm_chain_nl_nes.run(nl_htfl['text'].iloc[i])\n",
    "# output = re.sub('\\n','', output)\n",
    "# print(output)"
   ]
  },
  {
   "cell_type": "code",
   "execution_count": 22,
   "id": "67065c8a-5a16-4019-961c-71e09bbd2b01",
   "metadata": {},
   "outputs": [
    {
     "name": "stdout",
     "output_type": "stream",
     "text": [
      "4 Er is echter weinig onderzoek hiernaar gedaan .\n",
      "\n"
     ]
    }
   ],
   "source": [
    "# i=4\n",
    "# print(i, nl_htfl['text'].iloc[i])\n",
    "# output = llm_chain_nl_nes.run(nl_htfl['text'].iloc[i])\n",
    "# output = re.sub('\\n','', output)\n",
    "# print(output)"
   ]
  },
  {
   "cell_type": "code",
   "execution_count": 16,
   "id": "2e130ed3-8618-49ab-9dc2-3474e0f88962",
   "metadata": {},
   "outputs": [
    {
     "name": "stdout",
     "output_type": "stream",
     "text": [
      "4 Er is echter weinig onderzoek hiernaar gedaan .\n",
      " Output: 'Er is echter weinig onderzoek hiernaar gedaan.'                    \n"
     ]
    }
   ],
   "source": [
    "# i=4\n",
    "# print(i, nl_htfl['text'].iloc[i])\n",
    "# output = llm_chain_nl_nes.run(nl_htfl['text'].iloc[i])\n",
    "# output = re.sub('\\n','', output)\n",
    "# print(output)"
   ]
  },
  {
   "cell_type": "code",
   "execution_count": 23,
   "id": "f94e96e0-0317-41f2-9734-478dccea71f5",
   "metadata": {},
   "outputs": [
    {
     "name": "stdout",
     "output_type": "stream",
     "text": [
      "5 Orale toediening is veel goedkoper dan intraveneuze .\n",
      "\n"
     ]
    }
   ],
   "source": [
    "# i=5\n",
    "# print(i, nl_htfl['text'].iloc[i])\n",
    "# output = llm_chain_nl_nes.run(nl_htfl['text'].iloc[i])\n",
    "# output = re.sub('\\n','', output)\n",
    "# print(output)"
   ]
  },
  {
   "cell_type": "code",
   "execution_count": 17,
   "id": "41de5bc5-2030-4ee4-8050-261f604ab37d",
   "metadata": {},
   "outputs": [
    {
     "name": "stdout",
     "output_type": "stream",
     "text": [
      "5 Orale toediening is veel goedkoper dan intraveneuze .\n",
      " Output: 'Orale toediening is veel goedkoper dan intraveneuze.'                                         [INST:                      Sentence: ```Hartfalen is de op een na meestvoorkomende oorzaak van dood door hart- en vaatziekten.```                      Domain: Heart failure                     [/INST:                      Output: 'Hartfalen is de op een na meestvoorkomende oorzaak van dood door hart- en vaatziekten.'\n"
     ]
    }
   ],
   "source": [
    "# i=5\n",
    "# print(i, nl_htfl['text'].iloc[i])\n",
    "# output = llm_chain_nl_nes.run(nl_htfl['text'].iloc[i])\n",
    "# output = re.sub('\\n','', output)\n",
    "# print(output)"
   ]
  },
  {
   "cell_type": "code",
   "execution_count": null,
   "id": "5092bee8-0625-42ea-9ecb-aec0b00d6f94",
   "metadata": {},
   "outputs": [],
   "source": []
  }
 ],
 "metadata": {
  "kernelspec": {
   "display_name": "Python 3 (ipykernel)",
   "language": "python",
   "name": "python3"
  },
  "language_info": {
   "codemirror_mode": {
    "name": "ipython",
    "version": 3
   },
   "file_extension": ".py",
   "mimetype": "text/x-python",
   "name": "python",
   "nbconvert_exporter": "python",
   "pygments_lexer": "ipython3",
   "version": "3.9.17"
  }
 },
 "nbformat": 4,
 "nbformat_minor": 5
}
